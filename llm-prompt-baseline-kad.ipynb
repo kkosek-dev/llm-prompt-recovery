{
 "cells": [
  {
   "cell_type": "code",
   "execution_count": 1,
   "id": "6005bd9e",
   "metadata": {
    "_cell_guid": "b1076dfc-b9ad-4769-8c92-a6c4dae69d19",
    "_uuid": "8f2839f25d086af736a60e9eeb907d3b93b6e0e5",
    "execution": {
     "iopub.execute_input": "2024-03-27T01:04:23.124221Z",
     "iopub.status.busy": "2024-03-27T01:04:23.123730Z",
     "iopub.status.idle": "2024-03-27T01:04:37.106321Z",
     "shell.execute_reply": "2024-03-27T01:04:37.105119Z"
    },
    "papermill": {
     "duration": 13.989507,
     "end_time": "2024-03-27T01:04:37.108646",
     "exception": false,
     "start_time": "2024-03-27T01:04:23.119139",
     "status": "completed"
    },
    "tags": []
   },
   "outputs": [
    {
     "name": "stdout",
     "output_type": "stream",
     "text": [
      "/kaggle/input/testblendrewrite/rewritten.csv\n",
      "/kaggle/input/gemma/keras/gemma_instruct_2b_en/2/config.json\n",
      "/kaggle/input/gemma/keras/gemma_instruct_2b_en/2/tokenizer.json\n",
      "/kaggle/input/gemma/keras/gemma_instruct_2b_en/2/metadata.json\n",
      "/kaggle/input/gemma/keras/gemma_instruct_2b_en/2/model.weights.h5\n",
      "/kaggle/input/gemma/keras/gemma_instruct_2b_en/2/assets/tokenizer/vocabulary.spm\n",
      "/kaggle/input/llm-prompt-recovery/sample_submission.csv\n",
      "/kaggle/input/llm-prompt-recovery/train.csv\n",
      "/kaggle/input/llm-prompt-recovery/test.csv\n"
     ]
    },
    {
     "name": "stderr",
     "output_type": "stream",
     "text": [
      "2024-03-27 01:04:27.774972: E external/local_xla/xla/stream_executor/cuda/cuda_dnn.cc:9261] Unable to register cuDNN factory: Attempting to register factory for plugin cuDNN when one has already been registered\n",
      "2024-03-27 01:04:27.775091: E external/local_xla/xla/stream_executor/cuda/cuda_fft.cc:607] Unable to register cuFFT factory: Attempting to register factory for plugin cuFFT when one has already been registered\n",
      "2024-03-27 01:04:27.910913: E external/local_xla/xla/stream_executor/cuda/cuda_blas.cc:1515] Unable to register cuBLAS factory: Attempting to register factory for plugin cuBLAS when one has already been registered\n"
     ]
    },
    {
     "name": "stdout",
     "output_type": "stream",
     "text": [
      "end of dependencies\n"
     ]
    }
   ],
   "source": [
    "# Import dependencies \n",
    "import numpy as np # linear algebra\n",
    "import pandas as pd # data processing, CSV file I/O (e.g. pd.read_csv)\n",
    "import os\n",
    "for dirname, _, filenames in os.walk('/kaggle/input'):\n",
    "    for filename in filenames:\n",
    "        print(os.path.join(dirname, filename))\n",
    "os.environ[\"KERAS_BACKEND\"] = \"jax\" # you can also use tensorflow or torch\n",
    "os.environ[\"XLA_PYTHON_CLIENT_MEM_FRACTION\"] = \"1.00\" # avoid memory fragmentation on JAX backend.\n",
    "#COMPETITION_PATH = Path(r\"/kaggle/input/llm-prompt-recovery/\")\n",
    "#INPUT_PATH = Path(r\"/kaggle/input\")\n",
    "import keras\n",
    "import keras_nlp\n",
    "import random\n",
    "\n",
    "# ---- HYPER PARAMATER TUNING ----\n",
    "\n",
    "# Class setup for Gemma\n",
    "class CFG:\n",
    "    # don't need to change this unless you want to reset data for the session\n",
    "    seed = 42\n",
    "    # don't change\n",
    "    dataset_path = \"/kaggle/input/llm-prompt-recovery\"\n",
    "    # Model Preset - important for specifying the open source model\n",
    "    preset = \"gemma_instruct_2b_en\"\n",
    "    # Max input length for the text data going into model during Fine-Tuning\n",
    "    sequence_length = 512\n",
    "    # Max output length for generation from model\n",
    "    max_len = 512\n",
    "    # Minimal change when increased\n",
    "    batch_size = 1 \n",
    "    # Minimal change when increased \n",
    "    epochs = 1 \n",
    "    \n",
    "# Log progress\n",
    "print(\"end of dependencies\")"
   ]
  },
  {
   "cell_type": "code",
   "execution_count": 2,
   "id": "461d952e",
   "metadata": {
    "execution": {
     "iopub.execute_input": "2024-03-27T01:04:37.116931Z",
     "iopub.status.busy": "2024-03-27T01:04:37.116155Z",
     "iopub.status.idle": "2024-03-27T01:04:37.121057Z",
     "shell.execute_reply": "2024-03-27T01:04:37.120193Z"
    },
    "papermill": {
     "duration": 0.01087,
     "end_time": "2024-03-27T01:04:37.122961",
     "exception": false,
     "start_time": "2024-03-27T01:04:37.112091",
     "status": "completed"
    },
    "tags": []
   },
   "outputs": [],
   "source": [
    "# ---- PROMPT ENGINEERING ----\n",
    "\n",
    "# Template for Gemma - Engineer to be most effective at generating prompts\n",
    "template = \"\"\"Instructions: Given are 2 essays, the Rewritten essay was created from the Original essay using the google Gemma model. You are trying to understand how the original essay was transformed into a new version. Analyzing the changes in style, theme, etc., please come up with a prompt that must have been used to guide the transformation from the original to the rewritten essay. Only give me the PROMPT. Start directly with the prompt, that's all I need. Output should be only line ONLY.Original Essay:\\n{original_text}\\n\\nRewriten Essay:\\n{rewritten_text}\\n\\nPrompt:\\n{rewrite_prompt}\"\"\""
   ]
  },
  {
   "cell_type": "code",
   "execution_count": 3,
   "id": "27efdb40",
   "metadata": {
    "execution": {
     "iopub.execute_input": "2024-03-27T01:04:37.130293Z",
     "iopub.status.busy": "2024-03-27T01:04:37.129548Z",
     "iopub.status.idle": "2024-03-27T01:04:37.403380Z",
     "shell.execute_reply": "2024-03-27T01:04:37.402301Z"
    },
    "papermill": {
     "duration": 0.279504,
     "end_time": "2024-03-27T01:04:37.405386",
     "exception": false,
     "start_time": "2024-03-27T01:04:37.125882",
     "status": "completed"
    },
    "tags": []
   },
   "outputs": [
    {
     "name": "stdout",
     "output_type": "stream",
     "text": [
      "end of preprocessing\n"
     ]
    }
   ],
   "source": [
    "# ---- WE NEED BETTER DATA ----\n",
    "\n",
    "# `3000 Rewritten texts - Prompt recovery Challenge` by @dipamc77\n",
    "df = pd.read_csv(\"/kaggle/input/testblendrewrite/rewritten.csv\")\n",
    "\n",
    "# Concat all the rows into a uni-dimensional vector of text data to feed into Gemma\n",
    "df[\"prompt\"] = df.apply(lambda row: template.format(original_text=row.original_text,\n",
    "                                                             rewritten_text=row.rewritten_text,\n",
    "                                                             rewrite_prompt=row.rewrite_prompt), axis=1)\n",
    "# Isolate our 1D vector into a list\n",
    "data = df.prompt.tolist()\n",
    "# Progress log\n",
    "print(\"end of preprocessing\")"
   ]
  },
  {
   "cell_type": "code",
   "execution_count": 4,
   "id": "10d0602b",
   "metadata": {
    "execution": {
     "iopub.execute_input": "2024-03-27T01:04:37.413058Z",
     "iopub.status.busy": "2024-03-27T01:04:37.412755Z",
     "iopub.status.idle": "2024-03-27T01:04:37.419376Z",
     "shell.execute_reply": "2024-03-27T01:04:37.418492Z"
    },
    "papermill": {
     "duration": 0.012635,
     "end_time": "2024-03-27T01:04:37.421228",
     "exception": false,
     "start_time": "2024-03-27T01:04:37.408593",
     "status": "completed"
    },
    "tags": []
   },
   "outputs": [
    {
     "data": {
      "text/plain": [
       "'for x in range(900,905):\\n    print(df1.loc[(x), \\'rewritten_text\\'])\\n    print(\"STOP\")'"
      ]
     },
     "execution_count": 4,
     "metadata": {},
     "output_type": "execute_result"
    }
   ],
   "source": [
    "'''for x in range(900,905):\n",
    "    print(df1.loc[(x), 'rewritten_text'])\n",
    "    print(\"STOP\")'''"
   ]
  },
  {
   "cell_type": "code",
   "execution_count": 5,
   "id": "4e72d04c",
   "metadata": {
    "execution": {
     "iopub.execute_input": "2024-03-27T01:04:37.428518Z",
     "iopub.status.busy": "2024-03-27T01:04:37.428226Z",
     "iopub.status.idle": "2024-03-27T01:42:41.749318Z",
     "shell.execute_reply": "2024-03-27T01:42:41.748258Z"
    },
    "papermill": {
     "duration": 2284.326975,
     "end_time": "2024-03-27T01:42:41.751352",
     "exception": false,
     "start_time": "2024-03-27T01:04:37.424377",
     "status": "completed"
    },
    "tags": []
   },
   "outputs": [
    {
     "name": "stderr",
     "output_type": "stream",
     "text": [
      "Attaching 'config.json' from model 'keras/gemma/keras/gemma_instruct_2b_en/2' to your Kaggle notebook...\n",
      "Attaching 'config.json' from model 'keras/gemma/keras/gemma_instruct_2b_en/2' to your Kaggle notebook...\n",
      "Attaching 'model.weights.h5' from model 'keras/gemma/keras/gemma_instruct_2b_en/2' to your Kaggle notebook...\n",
      "Attaching 'tokenizer.json' from model 'keras/gemma/keras/gemma_instruct_2b_en/2' to your Kaggle notebook...\n",
      "Attaching 'assets/tokenizer/vocabulary.spm' from model 'keras/gemma/keras/gemma_instruct_2b_en/2' to your Kaggle notebook...\n",
      "normalizer.cc(51) LOG(INFO) precompiled_charsmap is empty. use identity normalization.\n"
     ]
    },
    {
     "name": "stdout",
     "output_type": "stream",
     "text": [
      "\u001b[1m3000/3000\u001b[0m \u001b[32m━━━━━━━━━━━━━━━━━━━━\u001b[0m\u001b[37m\u001b[0m \u001b[1m2211s\u001b[0m 730ms/step - loss: 1.3435 - sparse_categorical_accuracy: 0.6892\n",
      "end of fitting\n"
     ]
    }
   ],
   "source": [
    "# *Most* of the code after the previous cells will not need to be changed\n",
    "\n",
    "# Initialize Model - Will need to change based on model in use\n",
    "model = keras_nlp.models.GemmaCausalLM.from_preset(CFG.preset)\n",
    "# Optimizer - No need to change\n",
    "model.backbone.enable_lora(rank=7)\n",
    "# Input Length - Don't change here, change the CFG class\n",
    "model.preprocessor.sequence_length = CFG.sequence_length \n",
    "\n",
    "# Compile the model with loss, optimizer, and metric\n",
    "model.compile(\n",
    "    # Most likely the most optimal loss function\n",
    "    loss=keras.losses.SparseCategoricalCrossentropy(from_logits=True),\n",
    "    # ---- Might want to try different optimizers ---- \n",
    "    optimizer=keras.optimizers.Adam(learning_rate=3e-5),\n",
    "    # Not 100% what this does\n",
    "    weighted_metrics=[keras.metrics.SparseCategoricalAccuracy()],\n",
    ")\n",
    "\n",
    "# Train model\n",
    "model.fit(data, epochs=CFG.epochs, batch_size=CFG.batch_size)\n",
    "# Progress Log\n",
    "print(\"end of fitting\")"
   ]
  },
  {
   "cell_type": "code",
   "execution_count": 6,
   "id": "251f7356",
   "metadata": {
    "execution": {
     "iopub.execute_input": "2024-03-27T01:42:42.250863Z",
     "iopub.status.busy": "2024-03-27T01:42:42.249919Z",
     "iopub.status.idle": "2024-03-27T01:42:55.189694Z",
     "shell.execute_reply": "2024-03-27T01:42:55.188276Z"
    },
    "papermill": {
     "duration": 13.189581,
     "end_time": "2024-03-27T01:42:55.192320",
     "exception": false,
     "start_time": "2024-03-27T01:42:42.002739",
     "status": "completed"
    },
    "tags": []
   },
   "outputs": [
    {
     "name": "stdout",
     "output_type": "stream",
     "text": [
      "end of generation\n"
     ]
    },
    {
     "name": "stderr",
     "output_type": "stream",
     "text": [
      "/tmp/ipykernel_26/4214444898.py:38: SettingWithCopyWarning: \n",
      "A value is trying to be set on a copy of a slice from a DataFrame.\n",
      "Try using .loc[row_indexer,col_indexer] = value instead\n",
      "\n",
      "See the caveats in the documentation: https://pandas.pydata.org/pandas-docs/stable/user_guide/indexing.html#returning-a-view-versus-a-copy\n",
      "  df['rewrite_prompt'] = df['rewrite_prompt'].fillna(\"\")\n",
      "/tmp/ipykernel_26/4214444898.py:39: SettingWithCopyWarning: \n",
      "A value is trying to be set on a copy of a slice from a DataFrame.\n",
      "Try using .loc[row_indexer,col_indexer] = value instead\n",
      "\n",
      "See the caveats in the documentation: https://pandas.pydata.org/pandas-docs/stable/user_guide/indexing.html#returning-a-view-versus-a-copy\n",
      "  df['rewrite_prompt'] = df['rewrite_prompt'].apply(lambda x: 'Improve the essay' if x == \"\" else x)\n"
     ]
    }
   ],
   "source": [
    "# Seed for reproducibility\n",
    "random.seed(0)\n",
    "\n",
    "# Take in the 'test' data\n",
    "test_df = pd.read_csv(\"/kaggle/input/llm-prompt-recovery/test.csv\")\n",
    "test_df['original_text'] = test_df['original_text'].fillna(\"\")\n",
    "test_df['rewritten_text'] = test_df['rewritten_text'].fillna(\"\")\n",
    "\n",
    "# Initialize predictions list\n",
    "prds = []\n",
    "\n",
    "# Don't need to modify the code of the for loop\n",
    "\n",
    "# Initialize for loop in a range of length of DataFrame\n",
    "for num in range(len(test_df)):\n",
    "    # Save the current row \n",
    "    row = test_df.iloc[num]\n",
    "\n",
    "    # Create the prompt based on the current row\n",
    "    prompt = template.format(\n",
    "        original_text=row.original_text,\n",
    "        rewritten_text=row.rewritten_text,\n",
    "        rewrite_prompt=\"\",\n",
    "    )\n",
    "\n",
    "    # Generate output from model based on prompt\n",
    "    rewrite_prompt = model.generate(\n",
    "        prompt, \n",
    "        max_length=CFG.max_len,\n",
    "    ).replace(prompt, \"\")\n",
    "    \n",
    "    # Append the output to predictions list\n",
    "    prds.append(rewrite_prompt)\n",
    "\n",
    "# Clean up for submission\n",
    "test_df.loc[:,'rewrite_prompt'] = prds\n",
    "df = test_df[['id','rewrite_prompt']]\n",
    "df['rewrite_prompt'] = df['rewrite_prompt'].fillna(\"\")\n",
    "df['rewrite_prompt'] = df['rewrite_prompt'].apply(lambda x: 'Improve the essay' if x == \"\" else x)\n",
    "# Progress log\n",
    "print(\"end of generation\")\n",
    "# Submission\n",
    "df.to_csv('submission.csv', header=True, index=False)"
   ]
  }
 ],
 "metadata": {
  "kaggle": {
   "accelerator": "gpu",
   "dataSources": [
    {
     "databundleVersionId": 7806901,
     "sourceId": 67121,
     "sourceType": "competition"
    },
    {
     "datasetId": 4676324,
     "sourceId": 7951655,
     "sourceType": "datasetVersion"
    },
    {
     "modelInstanceId": 5388,
     "sourceId": 11372,
     "sourceType": "modelInstanceVersion"
    }
   ],
   "dockerImageVersionId": 30664,
   "isGpuEnabled": true,
   "isInternetEnabled": false,
   "language": "python",
   "sourceType": "notebook"
  },
  "kernelspec": {
   "display_name": "Python 3",
   "language": "python",
   "name": "python3"
  },
  "language_info": {
   "codemirror_mode": {
    "name": "ipython",
    "version": 3
   },
   "file_extension": ".py",
   "mimetype": "text/x-python",
   "name": "python",
   "nbconvert_exporter": "python",
   "pygments_lexer": "ipython3",
   "version": "3.10.13"
  },
  "papermill": {
   "default_parameters": {},
   "duration": 2318.378136,
   "end_time": "2024-03-27T01:42:58.706667",
   "environment_variables": {},
   "exception": null,
   "input_path": "__notebook__.ipynb",
   "output_path": "__notebook__.ipynb",
   "parameters": {},
   "start_time": "2024-03-27T01:04:20.328531",
   "version": "2.5.0"
  }
 },
 "nbformat": 4,
 "nbformat_minor": 5
}
